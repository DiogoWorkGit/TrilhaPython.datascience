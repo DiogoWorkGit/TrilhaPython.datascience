{
 "cells": [
  {
   "cell_type": "markdown",
   "id": "e4475d9d",
   "metadata": {},
   "source": [
    "#### Topics talked about in this jupyter notebook:\n",
    "\n",
    "- Introduction to functions\n",
    "- Lambda functions\n",
    "- Lambda & Map functions"
   ]
  },
  {
   "cell_type": "markdown",
   "id": "cab5f3eb",
   "metadata": {},
   "source": [
    "# User Functions\n",
    "#### With type hint"
   ]
  },
  {
   "cell_type": "code",
   "execution_count": 113,
   "id": "e88332b0",
   "metadata": {},
   "outputs": [],
   "source": [
    "def function_name(params: int=0) -> int:\n",
    "    params += 10\n",
    "    return params"
   ]
  },
  {
   "cell_type": "code",
   "execution_count": 114,
   "id": "9fbebbba",
   "metadata": {},
   "outputs": [
    {
     "data": {
      "text/plain": [
       "10"
      ]
     },
     "execution_count": 114,
     "metadata": {},
     "output_type": "execute_result"
    }
   ],
   "source": [
    "function_name()"
   ]
  },
  {
   "cell_type": "markdown",
   "id": "3db9306b",
   "metadata": {},
   "source": [
    "# Lambda functions"
   ]
  },
  {
   "cell_type": "markdown",
   "id": "ef605487",
   "metadata": {},
   "source": [
    "Lambda functions are declared in a single line, following this format:\n",
    "```\n",
    "<function name> lambda <input param> <intructions>\n",
    "<function name>(input param)\n",
    "```"
   ]
  },
  {
   "cell_type": "code",
   "execution_count": 115,
   "id": "789885bc",
   "metadata": {},
   "outputs": [],
   "source": [
    "cap_str = lambda x: print(x)"
   ]
  },
  {
   "cell_type": "code",
   "execution_count": 116,
   "id": "bbf214df",
   "metadata": {},
   "outputs": [
    {
     "name": "stdout",
     "output_type": "stream",
     "text": [
      "Hi, my name is Ellie\n"
     ]
    }
   ],
   "source": [
    "frase = 'Hi, my name is Ellie'\n",
    "cap_str(frase)"
   ]
  },
  {
   "cell_type": "markdown",
   "id": "b373739c",
   "metadata": {},
   "source": [
    "# Lambda functions w/ Map"
   ]
  },
  {
   "cell_type": "markdown",
   "id": "dd5b4562",
   "metadata": {},
   "source": [
    "We can use lambda in lists too, but that will have a different way of working.\n",
    "\n",
    "We gonna need to use a `Map` function, to run through all indexes, almost like a mix of a function with a `for` in a sigle line"
   ]
  },
  {
   "cell_type": "code",
   "execution_count": 117,
   "id": "952f963c",
   "metadata": {},
   "outputs": [
    {
     "data": {
      "text/plain": [
       "[9.9, 10.0, 8.5, 6.7, 8.0, 8.1]"
      ]
     },
     "execution_count": 117,
     "metadata": {},
     "output_type": "execute_result"
    }
   ],
   "source": [
    "grades = [8.9, 9.0, 7.5, 5.7, 7.0, 7.1]\n",
    "\n",
    "add_points = list(map(lambda x: x + 1, grades))\n",
    "add_points"
   ]
  },
  {
   "cell_type": "markdown",
   "id": "b44bd7cc",
   "metadata": {},
   "source": [
    "# Nested lists\n",
    "\n",
    "Split the strings of this list from the integers"
   ]
  },
  {
   "cell_type": "code",
   "execution_count": 118,
   "id": "b94ce669",
   "metadata": {},
   "outputs": [],
   "source": [
    "notas_turma = ['João', 8.0, 9.0, 10.0, 'Maria', 9.0, 7.0, 6.0, 'José', 3.4, 7.0, 7.0, 'Cláudia', 5.5, 6.6, 8.0, 'Ana', 6.0, 10.0, 9.5]"
   ]
  },
  {
   "cell_type": "code",
   "execution_count": 119,
   "id": "5e4a057c",
   "metadata": {},
   "outputs": [
    {
     "data": {
      "text/plain": [
       "['João', 'Maria', 'José', 'Cláudia', 'Ana']"
      ]
     },
     "execution_count": 119,
     "metadata": {},
     "output_type": "execute_result"
    }
   ],
   "source": [
    "names = list()\n",
    "for x in notas_turma:\n",
    "    if type(x) == str:\n",
    "        names.append(x)\n",
    "names"
   ]
  },
  {
   "cell_type": "markdown",
   "id": "1c166766",
   "metadata": {},
   "source": [
    "Now take the grade of each students"
   ]
  },
  {
   "cell_type": "code",
   "execution_count": 120,
   "id": "b23bb121",
   "metadata": {},
   "outputs": [
    {
     "name": "stdout",
     "output_type": "stream",
     "text": [
      "8.0\n",
      "9.0\n",
      "10.0\n",
      "9.0\n",
      "7.0\n",
      "6.0\n",
      "3.4\n",
      "7.0\n",
      "7.0\n",
      "5.5\n",
      "6.6\n",
      "8.0\n",
      "6.0\n",
      "10.0\n",
      "9.5\n"
     ]
    }
   ],
   "source": [
    "grades = list()\n",
    "\n",
    "for name in names:\n",
    "    loc = notas_turma.index(name)\n",
    "    for i in range(3):\n",
    "        print(notas_turma[loc+i+1])\n",
    "        grades.append(notas_turma[loc+i+1])"
   ]
  },
  {
   "cell_type": "code",
   "execution_count": 121,
   "id": "57da8616",
   "metadata": {},
   "outputs": [
    {
     "data": {
      "text/plain": [
       "['João', 'Maria', 'José', 'Cláudia', 'Ana']"
      ]
     },
     "execution_count": 121,
     "metadata": {},
     "output_type": "execute_result"
    }
   ],
   "source": [
    "names"
   ]
  },
  {
   "cell_type": "code",
   "execution_count": 122,
   "id": "1a2da7e0",
   "metadata": {},
   "outputs": [
    {
     "data": {
      "text/plain": [
       "[8.0, 9.0, 10.0, 9.0, 7.0, 6.0, 3.4, 7.0, 7.0, 5.5, 6.6, 8.0, 6.0, 10.0, 9.5]"
      ]
     },
     "execution_count": 122,
     "metadata": {},
     "output_type": "execute_result"
    }
   ],
   "source": [
    "grades"
   ]
  },
  {
   "cell_type": "markdown",
   "id": "89bf2f41",
   "metadata": {},
   "source": [
    "Now, make each grade of each student rounded and calculate the avarage grade"
   ]
  },
  {
   "cell_type": "code",
   "execution_count": 123,
   "id": "da038e6c",
   "metadata": {},
   "outputs": [],
   "source": [
    "def avag (grades: list) -> float:\n",
    "    calc = sum(grades) / len(grades)\n",
    "    return calc"
   ]
  },
  {
   "cell_type": "code",
   "execution_count": 124,
   "id": "c7e9af96",
   "metadata": {},
   "outputs": [
    {
     "name": "stdout",
     "output_type": "stream",
     "text": [
      "[8, 9, 10, 9, 7, 6, 3, 7, 7, 6, 7, 8, 6, 10, 10]\n"
     ]
    }
   ],
   "source": [
    "rounded_grades = list(map(lambda x: round(x), grades))\n",
    "print(rounded_grades)"
   ]
  },
  {
   "cell_type": "code",
   "execution_count": 125,
   "id": "1ce2c255",
   "metadata": {},
   "outputs": [
    {
     "data": {
      "text/plain": [
       "[7.533333333333333]"
      ]
     },
     "execution_count": 125,
     "metadata": {},
     "output_type": "execute_result"
    }
   ],
   "source": [
    "avarage_grade = [avag(rounded_grades)]\n",
    "avarage_grade"
   ]
  },
  {
   "cell_type": "code",
   "execution_count": 136,
   "id": "d23a329b",
   "metadata": {},
   "outputs": [
    {
     "data": {
      "text/plain": [
       "[[8.0, 9.0, 10.0],\n",
       " [9.0, 7.0, 6.0],\n",
       " [3.4, 7.0, 7.0],\n",
       " [5.5, 6.6, 8.0],\n",
       " [6.0, 10.0, 9.5]]"
      ]
     },
     "execution_count": 136,
     "metadata": {},
     "output_type": "execute_result"
    }
   ],
   "source": [
    "separated_grades = list()\n",
    "\n",
    "for i in range(5):\n",
    "    x = grades[i*3:i*3+3]\n",
    "    separated_grades.append(x)\n",
    "    \n",
    "separated_grades"
   ]
  },
  {
   "cell_type": "markdown",
   "id": "8842418e",
   "metadata": {},
   "source": [
    "# Dict Comprehension\n",
    "This techinic consist in creating dictionaries in a single line"
   ]
  },
  {
   "cell_type": "code",
   "execution_count": 139,
   "id": "5949644f",
   "metadata": {},
   "outputs": [
    {
     "data": {
      "text/plain": [
       "{'João': [8.0, 9.0, 10.0],\n",
       " 'Maria': [9.0, 7.0, 6.0],\n",
       " 'José': [3.4, 7.0, 7.0],\n",
       " 'Cláudia': [5.5, 6.6, 8.0],\n",
       " 'Ana': [6.0, 10.0, 9.5]}"
      ]
     },
     "execution_count": 139,
     "metadata": {},
     "output_type": "execute_result"
    }
   ],
   "source": [
    "report_card = {names[i]: separated_grades[i] for i in range(len(names))}\n",
    "report_card"
   ]
  }
 ],
 "metadata": {
  "kernelspec": {
   "display_name": "Python 3 (ipykernel)",
   "language": "python",
   "name": "python3"
  },
  "language_info": {
   "codemirror_mode": {
    "name": "ipython",
    "version": 3
   },
   "file_extension": ".py",
   "mimetype": "text/x-python",
   "name": "python",
   "nbconvert_exporter": "python",
   "pygments_lexer": "ipython3",
   "version": "3.10.6"
  }
 },
 "nbformat": 4,
 "nbformat_minor": 5
}
